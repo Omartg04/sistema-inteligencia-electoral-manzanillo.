{
 "cells": [
  {
   "cell_type": "code",
   "execution_count": 11,
   "id": "908c5eb5-8b96-4171-bfaf-f0e997bf8f55",
   "metadata": {},
   "outputs": [
    {
     "name": "stdout",
     "output_type": "stream",
     "text": [
      "Cargando las tres fuentes de datos finales...\n",
      "¡Datos cargados exitosamente!\n",
      "Uniendo geometrías con datos electorales...\n",
      "Uniendo el resultado con los datos del censo...\n",
      "\n",
      "\n",
      "¡PROYECTO FINALIZADO!\n",
      "GeoPackage con censo completo creado exitosamente en: /Users/omartellez/Manzanillo/06_geopackage/Manzanillo_Analisis_Electoral_Censal_Completo.gpkg\n",
      "\n",
      "--- Resumen del GeoDataFrame Final ---\n",
      "<class 'geopandas.geodataframe.GeoDataFrame'>\n",
      "RangeIndex: 5535 entries, 0 to 5534\n",
      "Columns: 234 entries, geometry to VPH_SINTIC\n",
      "dtypes: float64(232), geometry(1), object(1)\n",
      "memory usage: 9.9+ MB\n"
     ]
    }
   ],
   "source": [
    "import pandas as pd\n",
    "import geopandas as gpd\n",
    "import os\n",
    "\n",
    "# --- 1. CONFIGURACIÓN DE RUTAS ---\n",
    "BASE_DIR = '/Users/omartellez/Manzanillo'\n",
    "\n",
    "# Rutas a los tres archivos finales que hemos preparado\n",
    "path_geometrias = os.path.join(BASE_DIR, '05_censo', 'SECCION.shp')\n",
    "path_electoral = os.path.join(BASE_DIR, '05_analisis_agregado', 'analisis_agregado_por_seccion.csv')\n",
    "path_censo = os.path.join(BASE_DIR, '05_censo', 'censo_manzanillo_completo_2020.csv')\n",
    "\n",
    "# Ruta de salida para el GeoPackage\n",
    "output_folder = os.path.join(BASE_DIR, '06_geopackage')\n",
    "output_file = 'Manzanillo_Analisis_Electoral_Censal_Completo.gpkg'\n",
    "\n",
    "# --- 2. CARGA DE LAS TRES FUENTES DE DATOS ---\n",
    "print(\"Cargando las tres fuentes de datos finales...\")\n",
    "gdf_secciones = gpd.read_file(path_geometrias)\n",
    "df_electoral = pd.read_csv(path_electoral)\n",
    "df_censo = pd.read_csv(path_censo)\n",
    "print(\"¡Datos cargados exitosamente!\")\n",
    "\n",
    "# --- 3. PREPARACIÓN FINAL Y UNIÓN (MERGE) ---\n",
    "# Asegurarnos que las llaves de unión sean del mismo tipo (int)\n",
    "gdf_secciones['SECCION'] = gdf_secciones['SECCION'].astype(int)\n",
    "df_electoral['seccion'] = df_electoral['seccion'].astype(int)\n",
    "df_censo['seccion'] = df_censo['seccion'].astype(int)\n",
    "\n",
    "# Primera unión: Geometrías con datos electorales agregados\n",
    "print(\"Uniendo geometrías con datos electorales...\")\n",
    "# Usamos solo las columnas de geometría y la llave del GeoDataFrame para evitar duplicados\n",
    "gdf_merged = gdf_secciones[['SECCION', 'geometry']].merge(df_electoral, left_on='SECCION', right_on='seccion', how='left')\n",
    "\n",
    "# Segunda unión: El resultado anterior con TODOS los datos del censo\n",
    "print(\"Uniendo el resultado con los datos del censo...\")\n",
    "gdf_final = gdf_merged.merge(df_censo, on='seccion', how='left')\n",
    "\n",
    "# Eliminar columnas redundantes si las hay\n",
    "if 'SECCION' in gdf_final.columns:\n",
    "    gdf_final = gdf_final.drop(columns=['SECCION'])\n",
    "\n",
    "# --- 4. GUARDADO DEL GEOPACKAGE ---\n",
    "os.makedirs(output_folder, exist_ok=True)\n",
    "output_path = os.path.join(output_folder, output_file)\n",
    "\n",
    "# Usamos el driver 'GPKG' para crear el GeoPackage\n",
    "gdf_final.to_file(output_path, driver='GPKG')\n",
    "\n",
    "print(\"\\n\\n¡PROYECTO FINALIZADO!\")\n",
    "print(f\"GeoPackage con censo completo creado exitosamente en: {output_path}\")\n",
    "print(\"\\n--- Resumen del GeoDataFrame Final ---\")\n",
    "gdf_final.info()"
   ]
  },
  {
   "cell_type": "code",
   "execution_count": null,
   "id": "109ff5ae-8da8-4d26-a889-3e0a179d8a3c",
   "metadata": {},
   "outputs": [],
   "source": []
  }
 ],
 "metadata": {
  "kernelspec": {
   "display_name": "Python 3 (ipykernel)",
   "language": "python",
   "name": "python3"
  },
  "language_info": {
   "codemirror_mode": {
    "name": "ipython",
    "version": 3
   },
   "file_extension": ".py",
   "mimetype": "text/x-python",
   "name": "python",
   "nbconvert_exporter": "python",
   "pygments_lexer": "ipython3",
   "version": "3.9.21"
  }
 },
 "nbformat": 4,
 "nbformat_minor": 5
}
