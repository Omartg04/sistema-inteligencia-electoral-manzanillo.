{
 "cells": [
  {
   "cell_type": "code",
   "execution_count": null,
   "id": "d171fecc-37fa-47c8-a753-a9a707795979",
   "metadata": {},
   "outputs": [],
   "source": []
  }
 ],
 "metadata": {
  "kernelspec": {
   "display_name": "",
   "name": ""
  },
  "language_info": {
   "name": ""
  }
 },
 "nbformat": 4,
 "nbformat_minor": 5
}
